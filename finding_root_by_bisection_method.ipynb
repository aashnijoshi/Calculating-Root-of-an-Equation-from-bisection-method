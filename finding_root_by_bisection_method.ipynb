{
  "cells": [
    {
      "cell_type": "markdown",
      "metadata": {
        "id": "view-in-github",
        "colab_type": "text"
      },
      "source": [
        "<a href=\"https://colab.research.google.com/github/aashnijoshi/Calculating-Root-of-an-Equation-from-bisection-method/blob/main/finding_root_by_bisection_method.ipynb\" target=\"_parent\"><img src=\"https://colab.research.google.com/assets/colab-badge.svg\" alt=\"Open In Colab\"/></a>"
      ]
    },
    {
      "cell_type": "code",
      "execution_count": 4,
      "metadata": {
        "colab": {
          "base_uri": "https://localhost:8080/"
        },
        "id": "qCMoggSFFZud",
        "outputId": "fa2b0e3b-e39a-4a4b-feaa-6ebe2ef3f5cd"
      },
      "outputs": [
        {
          "output_type": "stream",
          "name": "stdout",
          "text": [
            "The value of root is :  -1.0025\n"
          ]
        }
      ],
      "source": [
        "# Python program for implementation\n",
        "# of Bisection Method for\n",
        "# solving equations\n",
        "\n",
        "\n",
        "# An example function whose\n",
        "# solution is determined using\n",
        "# Bisection Method.\n",
        "# The function is x^3 - x^2 + 2\n",
        "def func(x):\n",
        "    return x * x * x - x * x + 2\n",
        "\n",
        "\n",
        "# Prints root of func(x)\n",
        "# with error of EPSILON\n",
        "def bisection(a, b):\n",
        "    if func(a) * func(b) >= 0:\n",
        "        print(\"You have not assumed right a and b\\n\")\n",
        "        return\n",
        "\n",
        "    c = a\n",
        "    while ((b - a) >= 0.01):\n",
        "\n",
        "        # Find middle point\n",
        "        c = (a + b) / 2\n",
        "\n",
        "        # Check if middle point is root\n",
        "        if (func(c) == 0.0):\n",
        "            break\n",
        "\n",
        "        # Decide the side to repeat the steps\n",
        "        if (func(c) * func(a) < 0):\n",
        "            b = c\n",
        "        else:\n",
        "            a = c\n",
        "\n",
        "    print(\"The value of root is : \", \"%.4f\" % c)\n",
        "\n",
        "\n",
        "# Driver code\n",
        "# Initial values assumed\n",
        "a = -200\n",
        "b = 300\n",
        "bisection(a, b)\n",
        "\n",
        "\n"
      ]
    }
  ],
  "metadata": {
    "colab": {
      "name": "finding root by bisection method.ipynb",
      "provenance": [],
      "authorship_tag": "ABX9TyOXUCoYFbANx0kO1UGiehvg",
      "include_colab_link": true
    },
    "kernelspec": {
      "display_name": "Python 3",
      "name": "python3"
    },
    "language_info": {
      "name": "python"
    }
  },
  "nbformat": 4,
  "nbformat_minor": 0
}